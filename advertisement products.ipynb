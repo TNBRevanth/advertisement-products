{
 "cells": [
  {
   "cell_type": "markdown",
   "id": "c4b8fd97",
   "metadata": {},
   "source": [
    "\n"
   ]
  },
  {
   "cell_type": "markdown",
   "id": "7972ed48",
   "metadata": {},
   "source": [
    "# Product_3"
   ]
  },
  {
   "cell_type": "code",
   "execution_count": 82,
   "id": "0542d233",
   "metadata": {},
   "outputs": [],
   "source": [
    "from PIL import Image\n",
    "\n",
    "# main image and the background image\n",
    "main_image = Image.open(\"C:/Users/Dell/Desktop/project/product3.jpg\")\n",
    "background_image = Image.open(\"/Users/Dell/Desktop/project/gray.jpg\")\n",
    "\n",
    "# Resize the background image to match the size of the main image\n",
    "background_image = background_image.resize(main_image.size)\n",
    "\n",
    "# Convert both images to RGBA mode\n",
    "main_image = main_image.convert(\"RGBA\")\n",
    "background_image = background_image.convert(\"RGBA\")\n",
    "\n",
    "# Separate the main image from its shadow\n",
    "shadow_image = main_image.copy()\n",
    "shadow_image.putalpha(150)  \n",
    "\n",
    "# Create a mask for the shadow\n",
    "shadow_mask = Image.new(\"L\", main_image.size, 0)\n",
    "shadow_mask.paste(main_image.split()[2], (0, 0))\n",
    "\n",
    "# Replace the background of the main image with the new background\n",
    "main_image_without_background = main_image.copy()\n",
    "main_image_without_background.paste(background_image, (1, 1), mask=main_image.split()[1])\n",
    "\n",
    "# Overlay the main image and its shadow onto the new background\n",
    "result_image = Image.alpha_composite(main_image_without_background, shadow_image)\n",
    "\n",
    "# result\n",
    "result_image.save(\"product_3_1.png\", quality=90)\n"
   ]
  },
  {
   "cell_type": "code",
   "execution_count": 81,
   "id": "33372e11",
   "metadata": {},
   "outputs": [],
   "source": [
    "from PIL import Image\n",
    "\n",
    "# main image and the background image\n",
    "main_image = Image.open(\"C:/Users/Dell/Desktop/project/product3.jpg\")\n",
    "background_image = Image.open(\"/Users/Dell/Desktop/project/light-gray\")\n",
    "\n",
    "\n",
    "# Resize the background image to match the size of the main image\n",
    "background_image = background_image.resize(main_image.size)\n",
    "\n",
    "# Convert both images to RGBA mode\n",
    "main_image = main_image.convert(\"RGBA\")\n",
    "background_image = background_image.convert(\"RGBA\")\n",
    "\n",
    "# Separate the main image from its shadow\n",
    "shadow_image = main_image.copy()\n",
    "shadow_image.putalpha(150)  \n",
    "\n",
    "# Create a mask for the shadow\n",
    "shadow_mask = Image.new(\"L\", main_image.size, 0)\n",
    "shadow_mask.paste(main_image.split()[2], (0, 0))\n",
    "\n",
    "# Replace the background of the main image with the new background\n",
    "main_image_without_background = main_image.copy()\n",
    "main_image_without_background.paste(background_image, (2, 2), mask=main_image.split()[1])\n",
    "\n",
    "# Overlay the main image and its shadow onto the new background\n",
    "result_image = Image.alpha_composite(main_image_without_background, shadow_image)\n",
    "\n",
    "# result\n",
    "result_image.save(\"product_3_2.png\", quality=90)\n"
   ]
  },
  {
   "cell_type": "code",
   "execution_count": 80,
   "id": "879fba79",
   "metadata": {},
   "outputs": [],
   "source": [
    "from PIL import Image\n",
    "\n",
    "# main image and the background image\n",
    "main_image = Image.open(\"C:/Users/Dell/Desktop/project/product3.jpg\")\n",
    "background_image = Image.open(\"/Users/Dell/Desktop/project/texture-gray.jpg\")\n",
    "\n",
    "# Resize the background image to match the size of the main image\n",
    "background_image = background_image.resize(main_image.size)\n",
    "\n",
    "# Convert both images to RGBA mode\n",
    "main_image = main_image.convert(\"RGBA\")\n",
    "background_image = background_image.convert(\"RGBA\")\n",
    "\n",
    "# Separate the main image from its shadow\n",
    "shadow_image = main_image.copy()\n",
    "shadow_image.putalpha(160)  \n",
    "\n",
    "# Create a mask for the shadow\n",
    "shadow_mask = Image.new(\"L\", main_image.size, 0)\n",
    "shadow_mask.paste(main_image.split()[2], (0, 0))\n",
    "\n",
    "# Replace the background of the main image with the new background\n",
    "main_image_without_background = main_image.copy()\n",
    "main_image_without_background.paste(background_image, (1, 1), mask=main_image.split()[1])\n",
    "\n",
    "# Overlay the main image and its shadow onto the new background\n",
    "result_image = Image.alpha_composite(main_image_without_background, shadow_image)\n",
    "\n",
    "# result\n",
    "result_image.save(\"product_3_3.png\", quality=90)\n"
   ]
  },
  {
   "cell_type": "code",
   "execution_count": 84,
   "id": "781d062d",
   "metadata": {},
   "outputs": [],
   "source": [
    "from PIL import Image\n",
    "\n",
    "# main image and the background image\n",
    "main_image = Image.open(\"C:/Users/Dell/Desktop/project/product3.jpg\")\n",
    "background_image = Image.open(\"/Users/Dell/Desktop/project/gray-background.jpg\")\n",
    "\n",
    "# Resize the background image to match the size of the main image\n",
    "background_image = background_image.resize(main_image.size)\n",
    "\n",
    "# Convert both images to RGBA mode\n",
    "main_image = main_image.convert(\"RGBA\")\n",
    "background_image = background_image.convert(\"RGBA\")\n",
    "\n",
    "# Separate the main image from its shadow\n",
    "shadow_image = main_image.copy()\n",
    "shadow_image.putalpha(120)  \n",
    "\n",
    "# Create a mask for the shadow\n",
    "shadow_mask = Image.new(\"L\", main_image.size, 0)\n",
    "shadow_mask.paste(main_image.split()[2], (0, 0))\n",
    "\n",
    "# Replace the background of the main image with the new background\n",
    "main_image_without_background = main_image.copy()\n",
    "main_image_without_background.paste(background_image, (1, 1), mask=main_image.split()[1])\n",
    "\n",
    "# Overlay the main image and its shadow onto the new background\n",
    "result_image = Image.alpha_composite(main_image_without_background, shadow_image)\n",
    "\n",
    "# result\n",
    "result_image.save(\"product_3_4.png\", quality=90)\n"
   ]
  },
  {
   "cell_type": "code",
   "execution_count": 90,
   "id": "277305f3",
   "metadata": {},
   "outputs": [],
   "source": [
    "from PIL import Image\n",
    "\n",
    "# main image and the background image\n",
    "main_image = Image.open(\"C:/Users/Dell/Desktop/project/product3.jpg\")\n",
    "background_image = Image.open(\"/Users/Dell/Desktop/project/graywhite.jpg\")\n",
    "\n",
    "# Resize the background image to match the size of the main image\n",
    "background_image = background_image.resize(main_image.size)\n",
    "\n",
    "# Convert both images to RGBA mode\n",
    "main_image = main_image.convert(\"RGBA\")\n",
    "background_image = background_image.convert(\"RGBA\")\n",
    "\n",
    "# Separate the main image from its shadow\n",
    "shadow_image = main_image.copy()\n",
    "shadow_image.putalpha(180)  \n",
    "\n",
    "# Create a mask for the shadow\n",
    "shadow_mask = Image.new(\"L\", main_image.size, 0)\n",
    "shadow_mask.paste(main_image.split()[3], (1, 1))\n",
    "\n",
    "# Replace the background of the main image with the new background\n",
    "main_image_without_background = main_image.copy()\n",
    "main_image_without_background.paste(background_image, (1, 1), mask=main_image.split()[1])\n",
    "\n",
    "# Overlay the main image and its shadow onto the new background\n",
    "result_image = Image.alpha_composite(main_image_without_background, shadow_image)\n",
    "\n",
    "# result\n",
    "result_image.save(\"product_3_5.png\", quality=90)\n"
   ]
  },
  {
   "cell_type": "markdown",
   "id": "4d3e92b0",
   "metadata": {},
   "source": [
    "# Product_5"
   ]
  },
  {
   "cell_type": "code",
   "execution_count": 195,
   "id": "cd170e8c",
   "metadata": {},
   "outputs": [],
   "source": [
    "from PIL import ImageEnhance\n",
    "\n",
    "# main image and the background image\n",
    "main_image = Image.open(\"/Users/Dell/Desktop/project/product5.jpg\")\n",
    "background_image = Image.open(\"/Users/Dell/Desktop/project/light.jpg\")\n",
    "\n",
    "# Increase the brightness of the main image\n",
    "enhancer = ImageEnhance.Brightness(main_image)\n",
    "brightness_factor = 1.5  \n",
    "main_image = enhancer.enhance(brightness_factor)\n",
    "\n",
    "# Resize the background image to match the size of the main image\n",
    "background_image = background_image.resize(main_image.size)\n",
    "\n",
    "# Convert both images to RGBA mode\n",
    "main_image = main_image.convert(\"RGBA\")\n",
    "background_image = background_image.convert(\"RGBA\")\n",
    "\n",
    "# Separate the main image from its shadow\n",
    "shadow_image = main_image.copy()\n",
    "shadow_image.putalpha(150)  \n",
    "\n",
    "# Create a mask for the shadow\n",
    "shadow_mask = Image.new(\"L\", main_image.size, 0)\n",
    "shadow_mask.paste(main_image.split()[2], (2, 2))\n",
    "\n",
    "# Replace the background of the main image with the new background\n",
    "main_image_without_background = main_image.copy()\n",
    "main_image_without_background.paste(background_image, (3, 3), mask=main_image.split()[2])\n",
    "\n",
    "# Overlay the main image and its shadow onto the new background\n",
    "result_image = Image.alpha_composite(main_image_without_background, shadow_image)\n",
    "\n",
    "# result\n",
    "result_image.save(\"product_5_1.png\", quality=90)\n"
   ]
  },
  {
   "cell_type": "code",
   "execution_count": 247,
   "id": "2128eb70",
   "metadata": {},
   "outputs": [],
   "source": [
    "from PIL import ImageEnhance\n",
    "\n",
    "# main image and the background image\n",
    "main_image = Image.open(\"/Users/Dell/Desktop/project/product5.jpg\")\n",
    "background_image = Image.open(\"/Users/Dell/Desktop/project/lggimage.jpg\")\n",
    "\n",
    "# Increase the brightness of the main image\n",
    "enhancer_main = ImageEnhance.Brightness(main_image)\n",
    "brightness_factor_main = 0.9  \n",
    "main_image = enhancer_main.enhance(brightness_factor_main)\n",
    "\n",
    "# Increase the brightness of the background image\n",
    "enhancer_background = ImageEnhance.Brightness(background_image)\n",
    "brightness_factor_background = 1.0  \n",
    "background_image = enhancer_background.enhance(brightness_factor_background)\n",
    "\n",
    "# Resize the background image to match the size of the main image\n",
    "background_image = background_image.resize(main_image.size)\n",
    "\n",
    "# Convert both images to RGBA mode\n",
    "main_image = main_image.convert(\"RGBA\")\n",
    "background_image = background_image.convert(\"RGBA\")\n",
    "\n",
    "# Separate the main image from its shadow\n",
    "shadow_image = main_image.copy()\n",
    "shadow_image.putalpha(150)  \n",
    "\n",
    "# Create a mask for the shadow\n",
    "shadow_mask = Image.new(\"L\", main_image.size, 0)\n",
    "shadow_mask.paste(main_image.split()[2], (2, 2))\n",
    "\n",
    "# Replace the background of the main image with the new background\n",
    "main_image_without_background = main_image.copy()\n",
    "main_image_without_background.paste(background_image, (3, 3), mask=main_image.split()[2])\n",
    "\n",
    "# Overlay the main image and its shadow onto the new background\n",
    "result_image = Image.alpha_composite(main_image_without_background, shadow_image)\n",
    "\n",
    "# result\n",
    "result_image.save(\"product_5_2.png\", quality=95)\n"
   ]
  },
  {
   "cell_type": "code",
   "execution_count": 296,
   "id": "4b889128",
   "metadata": {},
   "outputs": [],
   "source": [
    "from PIL import ImageEnhance\n",
    "\n",
    "# main image and the background image\n",
    "main_image = Image.open(\"/Users/Dell/Desktop/project/product5.jpg\")\n",
    "background_image = Image.open(\"/Users/Dell/Desktop/project/oimages.jpg\")\n",
    "\n",
    "# Increase the brightness of the main image\n",
    "enhancer_main = ImageEnhance.Brightness(main_image)\n",
    "brightness_factor_main = 1.0  \n",
    "main_image = enhancer_main.enhance(brightness_factor_main)\n",
    "\n",
    "# Increase the brightness of the background image\n",
    "enhancer_background = ImageEnhance.Brightness(background_image)\n",
    "brightness_factor_background = 0.8  \n",
    "background_image = enhancer_background.enhance(brightness_factor_background)\n",
    "\n",
    "# Resize the background image to match the size of the main image using Lanczos interpolation\n",
    "background_image = background_image.resize(main_image.size, Image.LANCZOS)\n",
    "\n",
    "# Convert both images to RGBA mode\n",
    "main_image = main_image.convert(\"RGBA\")\n",
    "background_image = background_image.convert(\"RGBA\")\n",
    "\n",
    "# Separate the main image from its shadow\n",
    "shadow_image = main_image.copy()\n",
    "shadow_image.putalpha(90)  \n",
    "\n",
    "# Create a mask for the shadow\n",
    "shadow_mask = Image.new(\"L\", main_image.size, 1)\n",
    "shadow_mask.paste(main_image.split()[2], (2, 2))\n",
    "\n",
    "# Replace the background of the main image with the new background\n",
    "main_image_without_background = main_image.copy()\n",
    "main_image_without_background.paste(background_image, (2, 2), mask=main_image.split()[2])\n",
    "\n",
    "# Overlay the main image and its shadow onto the new background\n",
    "result_image = Image.alpha_composite(main_image_without_background, shadow_image)\n",
    "\n",
    "# result\n",
    "result_image.save(\"product_5_3.png\", quality=120)\n"
   ]
  },
  {
   "cell_type": "code",
   "execution_count": 310,
   "id": "e3f9c994",
   "metadata": {},
   "outputs": [],
   "source": [
    "from PIL import ImageEnhance\n",
    "\n",
    "# main image and the background image\n",
    "main_image = Image.open(\"/Users/Dell/Desktop/project/product5.jpg\")\n",
    "background_image = Image.open(\"/Users/Dell/Desktop/project/simage.jpg\")\n",
    "\n",
    "# Increase the brightness of the main image\n",
    "enhancer_main = ImageEnhance.Brightness(main_image)\n",
    "brightness_factor_main = 1.8 \n",
    "main_image = enhancer_main.enhance(brightness_factor_main)\n",
    "\n",
    "# Increase the brightness of the background image\n",
    "enhancer_background = ImageEnhance.Brightness(background_image)\n",
    "brightness_factor_background = 0.8  \n",
    "background_image = enhancer_background.enhance(brightness_factor_background)\n",
    "\n",
    "# Resize the background image to match the size of the main image using Lanczos interpolation\n",
    "background_image = background_image.resize(main_image.size)\n",
    "\n",
    "# Convert both images to RGBA mode\n",
    "main_image = main_image.convert(\"RGBA\")\n",
    "background_image = background_image.convert(\"RGBA\")\n",
    "\n",
    "# Separate the main image from its shadow\n",
    "shadow_image = main_image.copy()\n",
    "shadow_image.putalpha(120)  \n",
    "\n",
    "# Create a mask for the shadow\n",
    "shadow_mask = Image.new(\"L\", main_image.size, 0)\n",
    "shadow_mask.paste(main_image.split()[2], (2, 2))\n",
    "\n",
    "# Replace the background of the main image with the new background\n",
    "main_image_without_background = main_image.copy()\n",
    "main_image_without_background.paste(background_image, (3, 3), mask=main_image.split()[2])\n",
    "\n",
    "# Overlay the main image and its shadow onto the new background\n",
    "result_image = Image.alpha_composite(main_image_without_background, shadow_image)\n",
    "\n",
    "# result\n",
    "result_image.save(\"product_5_4.png\", quality=130)\n"
   ]
  },
  {
   "cell_type": "code",
   "execution_count": 306,
   "id": "7428d694",
   "metadata": {},
   "outputs": [],
   "source": [
    "from PIL import ImageEnhance\n",
    "\n",
    "# main image and the background image\n",
    "main_image = Image.open(\"/Users/Dell/Desktop/project/product5.jpg\")\n",
    "background_image = Image.open(\"/Users/Dell/Desktop/project/loimage.jpg\")\n",
    "\n",
    "# Increase the brightness of the main image\n",
    "enhancer_main = ImageEnhance.Brightness(main_image)\n",
    "brightness_factor_main = 1.2  \n",
    "main_image = enhancer_main.enhance(brightness_factor_main)\n",
    "\n",
    "# Increase the brightness of the background image\n",
    "enhancer_background = ImageEnhance.Brightness(background_image)\n",
    "brightness_factor_background = 0.8  \n",
    "background_image = enhancer_background.enhance(brightness_factor_background)\n",
    "\n",
    "# Resize the background image to match the size of the main image using Lanczos interpolation\n",
    "background_image = background_image.resize(main_image.size)\n",
    "\n",
    "# Convert both images to RGBA mode\n",
    "main_image = main_image.convert(\"RGBA\")\n",
    "background_image = background_image.convert(\"RGBA\")\n",
    "\n",
    "# Separate the main image from its shadow\n",
    "shadow_image = main_image.copy()\n",
    "shadow_image.putalpha(135)  \n",
    "\n",
    "# Create a mask for the shadow\n",
    "shadow_mask = Image.new(\"L\", main_image.size, 0)\n",
    "shadow_mask.paste(main_image.split()[2], (2, 2))\n",
    "\n",
    "# Replace the background of the main image with the new background\n",
    "main_image_without_background = main_image.copy()\n",
    "main_image_without_background.paste(background_image, (3, 3), mask=main_image.split()[2])\n",
    "\n",
    "# Overlay the main image and its shadow onto the new background\n",
    "result_image = Image.alpha_composite(main_image_without_background, shadow_image)\n",
    "\n",
    "# result\n",
    "result_image.save(\"product_5_5.png\", quality=120)\n"
   ]
  },
  {
   "cell_type": "markdown",
   "id": "9cbacf24",
   "metadata": {},
   "source": [
    "# Product_4"
   ]
  },
  {
   "cell_type": "code",
   "execution_count": 323,
   "id": "713fe520",
   "metadata": {},
   "outputs": [],
   "source": [
    "from PIL import ImageEnhance\n",
    "\n",
    "# main image and the background image\n",
    "main_image = Image.open(\"/Users/Dell/Desktop/project/product4.jpg\")\n",
    "background_image = Image.open(\"/Users/Dell/Desktop/project/lbimage.jpg\")\n",
    "\n",
    "# Increase the brightness of the main image\n",
    "enhancer_main = ImageEnhance.Brightness(main_image)\n",
    "brightness_factor_main = 2.0  \n",
    "main_image = enhancer_main.enhance(brightness_factor_main)\n",
    "\n",
    "# Increase the brightness of the background image\n",
    "enhancer_background = ImageEnhance.Brightness(background_image)\n",
    "brightness_factor_background = 1.5  \n",
    "background_image = enhancer_background.enhance(brightness_factor_background)\n",
    "\n",
    "# Resize the background image to match the size of the main image using Lanczos interpolation\n",
    "background_image = background_image.resize(main_image.size, Image.LANCZOS)\n",
    "\n",
    "# Convert both images to RGBA mode\n",
    "main_image = main_image.convert(\"RGBA\")\n",
    "background_image = background_image.convert(\"RGBA\")\n",
    "\n",
    "# Separate the main image from its shadow\n",
    "shadow_image = main_image.copy()\n",
    "shadow_image.putalpha(90)  \n",
    "\n",
    "# Create a mask for the shadow\n",
    "shadow_mask = Image.new(\"L\", main_image.size, 1)\n",
    "shadow_mask.paste(main_image.split()[2], (2, 2))\n",
    "\n",
    "# Replace the background of the main image with the new background\n",
    "main_image_without_background = main_image.copy()\n",
    "main_image_without_background.paste(background_image, (2, 2), mask=main_image.split()[2])\n",
    "\n",
    "# Overlay the main image and its shadow onto the new background\n",
    "result_image = Image.alpha_composite(main_image_without_background, shadow_image)\n",
    "\n",
    "# result\n",
    "result_image.save(\"product_4_1.png\", quality=90)\n"
   ]
  },
  {
   "cell_type": "code",
   "execution_count": 360,
   "id": "fa7ff9c7",
   "metadata": {},
   "outputs": [],
   "source": [
    "from PIL import ImageEnhance\n",
    "\n",
    "# main image and the background image\n",
    "main_image = Image.open(\"/Users/Dell/Desktop/project/product4.jpg\")\n",
    "background_image = Image.open(\"/Users/Dell/Desktop/project/sbimage.jpg\")\n",
    "\n",
    "# Increase the brightness of the main image\n",
    "enhancer_main = ImageEnhance.Brightness(main_image)\n",
    "brightness_factor_main = 2.0  \n",
    "main_image = enhancer_main.enhance(brightness_factor_main)\n",
    "\n",
    "# Increase the brightness of the background image\n",
    "enhancer_background = ImageEnhance.Brightness(background_image)\n",
    "brightness_factor_background = 1.1  \n",
    "background_image = enhancer_background.enhance(brightness_factor_background)\n",
    "\n",
    "# Resize the background image to match the size of the main image using Lanczos interpolation\n",
    "background_image = background_image.resize(main_image.size, Image.LANCZOS)\n",
    "\n",
    "# Convert both images to RGBA mode\n",
    "main_image = main_image.convert(\"RGBA\")\n",
    "background_image = background_image.convert(\"RGBA\")\n",
    "\n",
    "# Separate the main image from its shadow\n",
    "shadow_image = main_image.copy()\n",
    "shadow_image.putalpha(90)  \n",
    "\n",
    "# Create a mask for the shadow\n",
    "shadow_mask = Image.new(\"L\", main_image.size, 2)\n",
    "shadow_mask.paste(main_image.split()[2], (2, 2))\n",
    "\n",
    "# Replace the background of the main image with the new background\n",
    "main_image_without_background = main_image.copy()\n",
    "main_image_without_background.paste(background_image, (2, 2), mask=main_image.split()[2])\n",
    "\n",
    "# Overlay the main image and its shadow onto the new background\n",
    "result_image = Image.alpha_composite(main_image_without_background, shadow_image)\n",
    "\n",
    "# result\n",
    "result_image.save(\"product_4_2.png\", quality=95)\n"
   ]
  },
  {
   "cell_type": "code",
   "execution_count": 5,
   "id": "1fbd5a8e",
   "metadata": {},
   "outputs": [
    {
     "data": {
      "application/javascript": [
       "\n",
       "        if (window._pyforest_update_imports_cell) { window._pyforest_update_imports_cell('from PIL import Image'); }\n",
       "    "
      ],
      "text/plain": [
       "<IPython.core.display.Javascript object>"
      ]
     },
     "metadata": {},
     "output_type": "display_data"
    },
    {
     "data": {
      "application/javascript": [
       "\n",
       "        if (window._pyforest_update_imports_cell) { window._pyforest_update_imports_cell('from PIL import Image'); }\n",
       "    "
      ],
      "text/plain": [
       "<IPython.core.display.Javascript object>"
      ]
     },
     "metadata": {},
     "output_type": "display_data"
    },
    {
     "data": {
      "application/javascript": [
       "\n",
       "        if (window._pyforest_update_imports_cell) { window._pyforest_update_imports_cell('from PIL import Image'); }\n",
       "    "
      ],
      "text/plain": [
       "<IPython.core.display.Javascript object>"
      ]
     },
     "metadata": {},
     "output_type": "display_data"
    },
    {
     "data": {
      "application/javascript": [
       "\n",
       "        if (window._pyforest_update_imports_cell) { window._pyforest_update_imports_cell('from PIL import Image'); }\n",
       "    "
      ],
      "text/plain": [
       "<IPython.core.display.Javascript object>"
      ]
     },
     "metadata": {},
     "output_type": "display_data"
    },
    {
     "data": {
      "application/javascript": [
       "\n",
       "        if (window._pyforest_update_imports_cell) { window._pyforest_update_imports_cell('from PIL import Image'); }\n",
       "    "
      ],
      "text/plain": [
       "<IPython.core.display.Javascript object>"
      ]
     },
     "metadata": {},
     "output_type": "display_data"
    }
   ],
   "source": [
    "from PIL import ImageEnhance\n",
    "\n",
    "# main image and the background image\n",
    "main_image = Image.open(\"/Users/Dell/Desktop/project/product4.jpg\")\n",
    "background_image = Image.open(\"/Users/Dell/Desktop/project/llbimage.jpg\")\n",
    "\n",
    "# Increase the brightness of the main image\n",
    "enhancer_main = ImageEnhance.Brightness(main_image)\n",
    "brightness_factor_main = 2.0  \n",
    "main_image = enhancer_main.enhance(brightness_factor_main)\n",
    "\n",
    "# Increase the brightness of the background image\n",
    "enhancer_background = ImageEnhance.Brightness(background_image)\n",
    "brightness_factor_background = 0.7  \n",
    "background_image = enhancer_background.enhance(brightness_factor_background)\n",
    "\n",
    "# Resize the background image to match the size of the main image using Lanczos interpolation\n",
    "background_image = background_image.resize(main_image.size,Image.LANCZOS)\n",
    "\n",
    "# Convert both images to RGBA mode\n",
    "main_image = main_image.convert(\"RGBA\")\n",
    "background_image = background_image.convert(\"RGBA\")\n",
    "\n",
    "# Separate the main image from its shadow\n",
    "shadow_image = main_image.copy()\n",
    "shadow_image.putalpha(90)  \n",
    "\n",
    "# Create a mask for the shadow\n",
    "shadow_mask = Image.new(\"L\", main_image.size, 2)\n",
    "shadow_mask.paste(main_image.split()[2], (2, 2))\n",
    "\n",
    "# Replace the background of the main image with the new background\n",
    "main_image_without_background = main_image.copy()\n",
    "main_image_without_background.paste(background_image, (2, 2), mask=main_image.split()[2])\n",
    "\n",
    "# Overlay the main image and its shadow onto the new background\n",
    "result_image = Image.alpha_composite(main_image_without_background, shadow_image)\n",
    "\n",
    "# result\n",
    "result_image.save(\"product_4_3.png\", quality=95)\n"
   ]
  },
  {
   "cell_type": "code",
   "execution_count": 6,
   "id": "acec11f8",
   "metadata": {},
   "outputs": [
    {
     "data": {
      "application/javascript": [
       "\n",
       "        if (window._pyforest_update_imports_cell) { window._pyforest_update_imports_cell('from PIL import Image'); }\n",
       "    "
      ],
      "text/plain": [
       "<IPython.core.display.Javascript object>"
      ]
     },
     "metadata": {},
     "output_type": "display_data"
    },
    {
     "data": {
      "application/javascript": [
       "\n",
       "        if (window._pyforest_update_imports_cell) { window._pyforest_update_imports_cell('from PIL import Image'); }\n",
       "    "
      ],
      "text/plain": [
       "<IPython.core.display.Javascript object>"
      ]
     },
     "metadata": {},
     "output_type": "display_data"
    },
    {
     "data": {
      "application/javascript": [
       "\n",
       "        if (window._pyforest_update_imports_cell) { window._pyforest_update_imports_cell('from PIL import Image'); }\n",
       "    "
      ],
      "text/plain": [
       "<IPython.core.display.Javascript object>"
      ]
     },
     "metadata": {},
     "output_type": "display_data"
    },
    {
     "data": {
      "application/javascript": [
       "\n",
       "        if (window._pyforest_update_imports_cell) { window._pyforest_update_imports_cell('from PIL import Image'); }\n",
       "    "
      ],
      "text/plain": [
       "<IPython.core.display.Javascript object>"
      ]
     },
     "metadata": {},
     "output_type": "display_data"
    },
    {
     "data": {
      "application/javascript": [
       "\n",
       "        if (window._pyforest_update_imports_cell) { window._pyforest_update_imports_cell('from PIL import Image'); }\n",
       "    "
      ],
      "text/plain": [
       "<IPython.core.display.Javascript object>"
      ]
     },
     "metadata": {},
     "output_type": "display_data"
    }
   ],
   "source": [
    "from PIL import ImageEnhance\n",
    "\n",
    "# main image and the background image\n",
    "main_image = Image.open(\"/Users/Dell/Desktop/project/product4.jpg\")\n",
    "background_image = Image.open(\"/Users/Dell/Desktop/project/moimage.png\")\n",
    "\n",
    "# Increase the brightness of the main image\n",
    "enhancer_main = ImageEnhance.Brightness(main_image)\n",
    "brightness_factor_main = 1.8  \n",
    "main_image = enhancer_main.enhance(brightness_factor_main)\n",
    "\n",
    "# Increase the brightness of the background image\n",
    "enhancer_background = ImageEnhance.Brightness(background_image)\n",
    "brightness_factor_background = 1.8  \n",
    "background_image = enhancer_background.enhance(brightness_factor_background)\n",
    "\n",
    "# Resize the background image to match the size of the main image using Lanczos interpolation\n",
    "background_image = background_image.resize(main_image.size,Image.LANCZOS)\n",
    "\n",
    "# Convert both images to RGBA mode\n",
    "main_image = main_image.convert(\"RGBA\")\n",
    "background_image = background_image.convert(\"RGBA\")\n",
    "\n",
    "# Separate the main image from its shadow\n",
    "shadow_image = main_image.copy()\n",
    "shadow_image.putalpha(90)  \n",
    "\n",
    "# Create a mask for the shadow\n",
    "shadow_mask = Image.new(\"L\", main_image.size, 2)\n",
    "shadow_mask.paste(main_image.split()[2], (2, 2))\n",
    "\n",
    "# Replace the background of the main image with the new background\n",
    "main_image_without_background = main_image.copy()\n",
    "main_image_without_background.paste(background_image, (2, 2), mask=main_image.split()[2])\n",
    "\n",
    "# Overlay the main image and its shadow onto the new background\n",
    "result_image = Image.alpha_composite(main_image_without_background, shadow_image)\n",
    "\n",
    "# result\n",
    "result_image.save(\"product_4_4.png\", quality=95)\n"
   ]
  },
  {
   "cell_type": "code",
   "execution_count": 7,
   "id": "396db7c5",
   "metadata": {},
   "outputs": [
    {
     "data": {
      "application/javascript": [
       "\n",
       "        if (window._pyforest_update_imports_cell) { window._pyforest_update_imports_cell('from PIL import Image'); }\n",
       "    "
      ],
      "text/plain": [
       "<IPython.core.display.Javascript object>"
      ]
     },
     "metadata": {},
     "output_type": "display_data"
    },
    {
     "data": {
      "application/javascript": [
       "\n",
       "        if (window._pyforest_update_imports_cell) { window._pyforest_update_imports_cell('from PIL import Image'); }\n",
       "    "
      ],
      "text/plain": [
       "<IPython.core.display.Javascript object>"
      ]
     },
     "metadata": {},
     "output_type": "display_data"
    },
    {
     "data": {
      "application/javascript": [
       "\n",
       "        if (window._pyforest_update_imports_cell) { window._pyforest_update_imports_cell('from PIL import Image'); }\n",
       "    "
      ],
      "text/plain": [
       "<IPython.core.display.Javascript object>"
      ]
     },
     "metadata": {},
     "output_type": "display_data"
    },
    {
     "data": {
      "application/javascript": [
       "\n",
       "        if (window._pyforest_update_imports_cell) { window._pyforest_update_imports_cell('from PIL import Image'); }\n",
       "    "
      ],
      "text/plain": [
       "<IPython.core.display.Javascript object>"
      ]
     },
     "metadata": {},
     "output_type": "display_data"
    },
    {
     "data": {
      "application/javascript": [
       "\n",
       "        if (window._pyforest_update_imports_cell) { window._pyforest_update_imports_cell('from PIL import Image'); }\n",
       "    "
      ],
      "text/plain": [
       "<IPython.core.display.Javascript object>"
      ]
     },
     "metadata": {},
     "output_type": "display_data"
    }
   ],
   "source": [
    "from PIL import ImageEnhance\n",
    "\n",
    "# main image and the background image\n",
    "main_image = Image.open(\"/Users/Dell/Desktop/project/product4.jpg\")\n",
    "background_image = Image.open(\"/Users/Dell/Desktop/project/peaimage.png\")\n",
    "\n",
    "# Increase the brightness of the main image\n",
    "enhancer_main = ImageEnhance.Brightness(main_image)\n",
    "brightness_factor_main = 1.8 \n",
    "main_image = enhancer_main.enhance(brightness_factor_main)\n",
    "\n",
    "# Increase the brightness of the background image\n",
    "enhancer_background = ImageEnhance.Brightness(background_image)\n",
    "brightness_factor_background = 2.0  \n",
    "background_image = enhancer_background.enhance(brightness_factor_background)\n",
    "\n",
    "# Resize the background image to match the size of the main image using Lanczos interpolation\n",
    "background_image = background_image.resize(main_image.size,Image.LANCZOS)\n",
    "\n",
    "# Convert both images to RGBA mode\n",
    "main_image = main_image.convert(\"RGBA\")\n",
    "background_image = background_image.convert(\"RGBA\")\n",
    "\n",
    "# Separate the main image from its shadow\n",
    "shadow_image = main_image.copy()\n",
    "shadow_image.putalpha(120)  \n",
    "\n",
    "# Create a mask for the shadow\n",
    "shadow_mask = Image.new(\"L\", main_image.size, 2)\n",
    "shadow_mask.paste(main_image.split()[2], (2, 2))\n",
    "\n",
    "# Replace the background of the main image with the new background\n",
    "main_image_without_background = main_image.copy()\n",
    "main_image_without_background.paste(background_image, (2, 2), mask=main_image.split()[2])\n",
    "\n",
    "# Overlay the main image and its shadow onto the new background\n",
    "result_image = Image.alpha_composite(main_image_without_background, shadow_image)\n",
    "\n",
    "# result\n",
    "result_image.save(\"product_4_5.png\", quality=95)\n"
   ]
  },
  {
   "cell_type": "markdown",
   "id": "92fc915b",
   "metadata": {},
   "source": [
    "# Product_2"
   ]
  },
  {
   "cell_type": "code",
   "execution_count": 8,
   "id": "36365365",
   "metadata": {},
   "outputs": [
    {
     "data": {
      "application/javascript": [
       "\n",
       "        if (window._pyforest_update_imports_cell) { window._pyforest_update_imports_cell('from PIL import Image'); }\n",
       "    "
      ],
      "text/plain": [
       "<IPython.core.display.Javascript object>"
      ]
     },
     "metadata": {},
     "output_type": "display_data"
    },
    {
     "data": {
      "application/javascript": [
       "\n",
       "        if (window._pyforest_update_imports_cell) { window._pyforest_update_imports_cell('from PIL import Image'); }\n",
       "    "
      ],
      "text/plain": [
       "<IPython.core.display.Javascript object>"
      ]
     },
     "metadata": {},
     "output_type": "display_data"
    },
    {
     "data": {
      "application/javascript": [
       "\n",
       "        if (window._pyforest_update_imports_cell) { window._pyforest_update_imports_cell('from PIL import Image'); }\n",
       "    "
      ],
      "text/plain": [
       "<IPython.core.display.Javascript object>"
      ]
     },
     "metadata": {},
     "output_type": "display_data"
    },
    {
     "data": {
      "application/javascript": [
       "\n",
       "        if (window._pyforest_update_imports_cell) { window._pyforest_update_imports_cell('from PIL import Image'); }\n",
       "    "
      ],
      "text/plain": [
       "<IPython.core.display.Javascript object>"
      ]
     },
     "metadata": {},
     "output_type": "display_data"
    },
    {
     "data": {
      "application/javascript": [
       "\n",
       "        if (window._pyforest_update_imports_cell) { window._pyforest_update_imports_cell('from PIL import Image'); }\n",
       "    "
      ],
      "text/plain": [
       "<IPython.core.display.Javascript object>"
      ]
     },
     "metadata": {},
     "output_type": "display_data"
    }
   ],
   "source": [
    "from PIL import ImageEnhance\n",
    "\n",
    "# main image and the background image\n",
    "main_image = Image.open(\"/Users/Dell/Desktop/project/product2.jpg\")\n",
    "background_image = Image.open(\"/Users/Dell/Desktop/project/brimage.png\")\n",
    "\n",
    "# Increase the brightness of the main image\n",
    "enhancer_main = ImageEnhance.Brightness(main_image)\n",
    "brightness_factor_main = 1.1  \n",
    "main_image = enhancer_main.enhance(brightness_factor_main)\n",
    "\n",
    "# Increase the brightness of the background image\n",
    "enhancer_background = ImageEnhance.Brightness(background_image)\n",
    "brightness_factor_background = 0.6  \n",
    "background_image = enhancer_background.enhance(brightness_factor_background)\n",
    "\n",
    "# Resize the background image to match the size of the main image using Lanczos interpolation\n",
    "background_image = background_image.resize(main_image.size,Image.LANCZOS)\n",
    "\n",
    "# Convert both images to RGBA mode\n",
    "main_image = main_image.convert(\"RGBA\")\n",
    "background_image = background_image.convert(\"RGBA\")\n",
    "\n",
    "# Separate the main image from its shadow\n",
    "shadow_image = main_image.copy()\n",
    "shadow_image.putalpha(120)  \n",
    "\n",
    "# Create a mask for the shadow\n",
    "shadow_mask = Image.new(\"L\", main_image.size, 2)\n",
    "shadow_mask.paste(main_image.split()[2], (2, 2))\n",
    "\n",
    "# Replace the background of the main image with the new background\n",
    "main_image_without_background = main_image.copy()\n",
    "main_image_without_background.paste(background_image, (2, 2), mask=main_image.split()[2])\n",
    "\n",
    "# Overlay the main image and its shadow onto the new background\n",
    "result_image = Image.alpha_composite(main_image_without_background, shadow_image)\n",
    "\n",
    "# result\n",
    "result_image.save(\"product_2_1.png\", quality=95)\n"
   ]
  },
  {
   "cell_type": "code",
   "execution_count": 124,
   "id": "7e3d2bb4",
   "metadata": {},
   "outputs": [],
   "source": [
    "from PIL import ImageEnhance\n",
    "\n",
    "# main image and the background image\n",
    "main_image = Image.open(\"/Users/Dell/Desktop/project/product2.jpg\")\n",
    "background_image = Image.open(\"/Users/Dell/Desktop/project/cwimage.jpg\")\n",
    "\n",
    "# Increase the brightness of the main image\n",
    "enhancer_main = ImageEnhance.Brightness(main_image)\n",
    "brightness_factor_main = 1.0  \n",
    "main_image = enhancer_main.enhance(brightness_factor_main)\n",
    "\n",
    "# Increase the brightness of the background image\n",
    "enhancer_background = ImageEnhance.Brightness(background_image)\n",
    "brightness_factor_background = 0.8  \n",
    "background_image = enhancer_background.enhance(brightness_factor_background)\n",
    "\n",
    "# Resize the background image to match the size of the main image using Lanczos interpolation\n",
    "background_image = background_image.resize(main_image.size,Image.LANCZOS)\n",
    "\n",
    "# Convert both images to RGBA mode\n",
    "main_image = main_image.convert(\"RGBA\")\n",
    "background_image = background_image.convert(\"RGBA\")\n",
    "\n",
    "# Separate the main image from its shadow\n",
    "shadow_image = main_image.copy()\n",
    "shadow_image.putalpha(90)  \n",
    "\n",
    "# Create a mask for the shadow\n",
    "shadow_mask = Image.new(\"L\", main_image.size, 2)\n",
    "shadow_mask.paste(main_image.split()[2], (2, 2))\n",
    "\n",
    "# Replace the background of the main image with the new background\n",
    "main_image_without_background = main_image.copy()\n",
    "main_image_without_background.paste(background_image, (2, 2), mask=main_image.split()[2])\n",
    "\n",
    "# Overlay the main image and its shadow onto the new background\n",
    "result_image = Image.alpha_composite(main_image_without_background, shadow_image)\n",
    "\n",
    "# result\n",
    "result_image.save(\"product_2_2.png\", quality=95)\n"
   ]
  },
  {
   "cell_type": "code",
   "execution_count": 126,
   "id": "3f22eb0d",
   "metadata": {},
   "outputs": [],
   "source": [
    "from PIL import ImageEnhance\n",
    "\n",
    "# main image and the background image\n",
    "main_image = Image.open(\"/Users/Dell/Desktop/project/product2.jpg\")\n",
    "background_image = Image.open(\"/Users/Dell/Desktop/project/maimage.jpg\")\n",
    "\n",
    "# Increase the brightness of the main image\n",
    "enhancer_main = ImageEnhance.Brightness(main_image)\n",
    "brightness_factor_main = 1.1  \n",
    "main_image = enhancer_main.enhance(brightness_factor_main)\n",
    "\n",
    "# Increase the brightness of the background image\n",
    "enhancer_background = ImageEnhance.Brightness(background_image)\n",
    "brightness_factor_background = 0.8 \n",
    "background_image = enhancer_background.enhance(brightness_factor_background)\n",
    "\n",
    "# Resize the background image to match the size of the main image using Lanczos interpolation\n",
    "background_image = background_image.resize(main_image.size,Image.LANCZOS)\n",
    "\n",
    "# Convert both images to RGBA mode\n",
    "main_image = main_image.convert(\"RGBA\")\n",
    "background_image = background_image.convert(\"RGBA\")\n",
    "\n",
    "# Separate the main image from its shadow\n",
    "shadow_image = main_image.copy()\n",
    "shadow_image.putalpha(90)  \n",
    "\n",
    "# Create a mask for the shadow\n",
    "shadow_mask = Image.new(\"L\", main_image.size, 2)\n",
    "shadow_mask.paste(main_image.split()[2], (2, 2))\n",
    "\n",
    "# Replace the background of the main image with the new background\n",
    "main_image_without_background = main_image.copy()\n",
    "main_image_without_background.paste(background_image, (2, 2), mask=main_image.split()[2])\n",
    "\n",
    "# Overlay the main image and its shadow onto the new background\n",
    "result_image = Image.alpha_composite(main_image_without_background, shadow_image)\n",
    "\n",
    "# result\n",
    "result_image.save(\"product_2_3.png\", quality=95)\n"
   ]
  },
  {
   "cell_type": "code",
   "execution_count": 161,
   "id": "1efc9e11",
   "metadata": {},
   "outputs": [],
   "source": [
    "from PIL import ImageEnhance\n",
    "\n",
    "# main image and the background image\n",
    "main_image = Image.open(\"/Users/Dell/Desktop/project/product2.jpg\")\n",
    "background_image = Image.open(\"/Users\\Dell/Desktop/project/siimage.jpg\")\n",
    "\n",
    "# Increase the brightness of the main image\n",
    "enhancer_main = ImageEnhance.Brightness(main_image)\n",
    "brightness_factor_main = 1.1 \n",
    "main_image = enhancer_main.enhance(brightness_factor_main)\n",
    "\n",
    "# Increase the brightness of the background image\n",
    "enhancer_background = ImageEnhance.Brightness(background_image)\n",
    "brightness_factor_background = 1.0\n",
    "background_image = enhancer_background.enhance(brightness_factor_background)\n",
    "\n",
    "# Resize the background image to match the size of the main image using Lanczos interpolation\n",
    "background_image = background_image.resize(main_image.size,Image.LANCZOS)\n",
    "\n",
    "# Convert both images to RGBA mode\n",
    "main_image = main_image.convert(\"RGBA\")\n",
    "background_image = background_image.convert(\"RGBA\")\n",
    "\n",
    "# Separate the main image from its shadow\n",
    "shadow_image = main_image.copy()\n",
    "shadow_image.putalpha(120)\n",
    "\n",
    "# Create a mask for the shadow\n",
    "shadow_mask = Image.new(\"L\", main_image.size, 2)\n",
    "shadow_mask.paste(main_image.split()[2], (2, 2))\n",
    "\n",
    "# Replace the background of the main image with the new background\n",
    "main_image_without_background = main_image.copy()\n",
    "main_image_without_background.paste(background_image, (2, 2), mask=main_image.split()[2])\n",
    "\n",
    "# Overlay the main image and its shadow onto the new background\n",
    "result_image = Image.alpha_composite(main_image_without_background, shadow_image)\n",
    "\n",
    "# result\n",
    "result_image.save(\"product_2_4.png\", quality=95)\n"
   ]
  },
  {
   "cell_type": "code",
   "execution_count": 168,
   "id": "395def6a",
   "metadata": {},
   "outputs": [],
   "source": [
    "from PIL import ImageEnhance\n",
    "\n",
    "# main image and the background image\n",
    "main_image = Image.open(\"/Users/Dell/Desktop/project/product2.jpg\")\n",
    "background_image = Image.open(\"/Users/Dell/Desktop/project/goimage.jpg\")\n",
    "\n",
    "# Increase the brightness of the main image\n",
    "enhancer_main = ImageEnhance.Brightness(main_image)\n",
    "brightness_factor_main = 0.9 \n",
    "main_image = enhancer_main.enhance(brightness_factor_main)\n",
    "\n",
    "# Increase the brightness of the background image\n",
    "enhancer_background = ImageEnhance.Brightness(background_image)\n",
    "brightness_factor_background = 0.8 \n",
    "background_image = enhancer_background.enhance(brightness_factor_background)\n",
    "\n",
    "# Resize the background image to match the size of the main image using Lanczos interpolation\n",
    "background_image = background_image.resize(main_image.size,Image.LANCZOS)\n",
    "\n",
    "# Convert both images to RGBA mode\n",
    "main_image = main_image.convert(\"RGBA\")\n",
    "background_image = background_image.convert(\"RGBA\")\n",
    "\n",
    "# Separate the main image from its shadow\n",
    "shadow_image = main_image.copy()\n",
    "shadow_image.putalpha(90)\n",
    "\n",
    "# Create a mask for the shadow\n",
    "shadow_mask = Image.new(\"L\", main_image.size, 2)\n",
    "shadow_mask.paste(main_image.split()[2], (2, 2))\n",
    "\n",
    "# Replace the background of the main image with the new background\n",
    "main_image_without_background = main_image.copy()\n",
    "main_image_without_background.paste(background_image, (2, 2), mask=main_image.split()[2])\n",
    "\n",
    "# Overlay the main image and its shadow onto the new background\n",
    "result_image = Image.alpha_composite(main_image_without_background, shadow_image)\n",
    "\n",
    "# Save the result\n",
    "result_image.save(\"product_2_5.png\", quality=95)\n"
   ]
  },
  {
   "cell_type": "markdown",
   "id": "4dc24741",
   "metadata": {},
   "source": [
    "# Product_1"
   ]
  },
  {
   "cell_type": "code",
   "execution_count": 177,
   "id": "cc5c4902",
   "metadata": {},
   "outputs": [],
   "source": [
    "from PIL import ImageEnhance\n",
    "\n",
    "# main image and the background image\n",
    "main_image = Image.open(\"/Users/Dell/Desktop/project/product1.jpg\")\n",
    "background_image = Image.open(\"/Users/Dell/Desktop/project/bmimage.jpg\")\n",
    "\n",
    "# Increase the brightness of the main image\n",
    "enhancer_main = ImageEnhance.Brightness(main_image)\n",
    "brightness_factor_main = 1.8 \n",
    "main_image = enhancer_main.enhance(brightness_factor_main)\n",
    "\n",
    "# Increase the brightness of the background image\n",
    "enhancer_background = ImageEnhance.Brightness(background_image)\n",
    "brightness_factor_background = 1.5 \n",
    "background_image = enhancer_background.enhance(brightness_factor_background)\n",
    "\n",
    "# Resize the background image to match the size of the main image using Lanczos interpolation\n",
    "background_image = background_image.resize(main_image.size,Image.LANCZOS)\n",
    "\n",
    "# Convert both images to RGBA mode\n",
    "main_image = main_image.convert(\"RGBA\")\n",
    "background_image = background_image.convert(\"RGBA\")\n",
    "\n",
    "# Separate the main image from its shadow\n",
    "shadow_image = main_image.copy()\n",
    "shadow_image.putalpha(120)\n",
    "\n",
    "# Create a mask for the shadow\n",
    "shadow_mask = Image.new(\"L\", main_image.size, 2)\n",
    "shadow_mask.paste(main_image.split()[2], (2, 2))\n",
    "\n",
    "# Replace the background of the main image with the new background\n",
    "main_image_without_background = main_image.copy()\n",
    "main_image_without_background.paste(background_image, (2, 2), mask=main_image.split()[2])\n",
    "\n",
    "# Overlay the main image and its shadow onto the new background\n",
    "result_image = Image.alpha_composite(main_image_without_background, shadow_image)\n",
    "\n",
    "# result\n",
    "result_image.save(\"product_1_1.png\", quality=95)\n"
   ]
  },
  {
   "cell_type": "code",
   "execution_count": 188,
   "id": "77ece2bb",
   "metadata": {},
   "outputs": [],
   "source": [
    "from PIL import ImageEnhance\n",
    "\n",
    "# main image and the background image\n",
    "main_image = Image.open(\"/Users/Dell/Desktop/project/product1.jpg\")\n",
    "background_image = Image.open(\"/Users/Dell/Desktop/project/crimage.jpg\")\n",
    "\n",
    "# Increase the brightness of the main image\n",
    "enhancer_main = ImageEnhance.Brightness(main_image)\n",
    "brightness_factor_main = 1.2 \n",
    "main_image = enhancer_main.enhance(brightness_factor_main)\n",
    "\n",
    "# Increase the brightness of the background image\n",
    "enhancer_background = ImageEnhance.Brightness(background_image)\n",
    "brightness_factor_background = 1.0 \n",
    "background_image = enhancer_background.enhance(brightness_factor_background)\n",
    "\n",
    "# Resize the background image to match the size of the main image using Lanczos interpolation\n",
    "background_image = background_image.resize(main_image.size,Image.LANCZOS)\n",
    "\n",
    "# Convert both images to RGBA mode\n",
    "main_image = main_image.convert(\"RGBA\")\n",
    "background_image = background_image.convert(\"RGBA\")\n",
    "\n",
    "# Separate the main image from its shadow\n",
    "shadow_image = main_image.copy()\n",
    "shadow_image.putalpha(90)\n",
    "\n",
    "# Create a mask for the shadow\n",
    "shadow_mask = Image.new(\"L\", main_image.size, 2)\n",
    "shadow_mask.paste(main_image.split()[2], (2, 2))\n",
    "\n",
    "# Replace the background of the main image with the new background\n",
    "main_image_without_background = main_image.copy()\n",
    "main_image_without_background.paste(background_image, (2, 2), mask=main_image.split()[2])\n",
    "\n",
    "# Overlay the main image and its shadow onto the new background\n",
    "result_image = Image.alpha_composite(main_image_without_background, shadow_image)\n",
    "\n",
    "# result\n",
    "result_image.save(\"product_1_2.png\", quality=95)\n"
   ]
  },
  {
   "cell_type": "code",
   "execution_count": 201,
   "id": "4bebcd4a",
   "metadata": {},
   "outputs": [],
   "source": [
    "from PIL import ImageEnhance\n",
    "\n",
    "# main image and the background image\n",
    "main_image = Image.open(\"/Users/Dell/Desktop/project/product1.jpg\")\n",
    "background_image = Image.open(\"/Users/Dell/Desktop/project/roimage.jpg\")\n",
    "\n",
    "# Increase the brightness of the main image\n",
    "enhancer_main = ImageEnhance.Brightness(main_image)\n",
    "brightness_factor_main = 1.4 \n",
    "main_image = enhancer_main.enhance(brightness_factor_main)\n",
    "\n",
    "# Increase the brightness of the background image\n",
    "enhancer_background = ImageEnhance.Brightness(background_image)\n",
    "brightness_factor_background = 1.0 \n",
    "background_image = enhancer_background.enhance(brightness_factor_background)\n",
    "\n",
    "# Resize the background image to match the size of the main image using Lanczos interpolation\n",
    "background_image = background_image.resize(main_image.size,Image.LANCZOS)\n",
    "\n",
    "# Convert both images to RGBA mode\n",
    "main_image = main_image.convert(\"RGBA\")\n",
    "background_image = background_image.convert(\"RGBA\")\n",
    "\n",
    "# Separate the main image from its shadow\n",
    "shadow_image = main_image.copy()\n",
    "shadow_image.putalpha(90)\n",
    "\n",
    "# Create a mask for the shadow\n",
    "shadow_mask = Image.new(\"L\", main_image.size, 2)\n",
    "shadow_mask.paste(main_image.split()[2], (2, 2))\n",
    "\n",
    "# Replace the background of the main image with the new background\n",
    "main_image_without_background = main_image.copy()\n",
    "main_image_without_background.paste(background_image, (2, 2), mask=main_image.split()[2])\n",
    "\n",
    "# Overlay the main image and its shadow onto the new background\n",
    "result_image = Image.alpha_composite(main_image_without_background, shadow_image)\n",
    "\n",
    "# result\n",
    "result_image.save(\"product_1_3.png\", quality=95)\n"
   ]
  },
  {
   "cell_type": "code",
   "execution_count": 4,
   "id": "d6d05934",
   "metadata": {},
   "outputs": [
    {
     "data": {
      "application/javascript": [
       "\n",
       "        if (window._pyforest_update_imports_cell) { window._pyforest_update_imports_cell('from PIL import Image'); }\n",
       "    "
      ],
      "text/plain": [
       "<IPython.core.display.Javascript object>"
      ]
     },
     "metadata": {},
     "output_type": "display_data"
    },
    {
     "data": {
      "application/javascript": [
       "\n",
       "        if (window._pyforest_update_imports_cell) { window._pyforest_update_imports_cell('from PIL import Image'); }\n",
       "    "
      ],
      "text/plain": [
       "<IPython.core.display.Javascript object>"
      ]
     },
     "metadata": {},
     "output_type": "display_data"
    },
    {
     "data": {
      "application/javascript": [
       "\n",
       "        if (window._pyforest_update_imports_cell) { window._pyforest_update_imports_cell('from PIL import Image'); }\n",
       "    "
      ],
      "text/plain": [
       "<IPython.core.display.Javascript object>"
      ]
     },
     "metadata": {},
     "output_type": "display_data"
    },
    {
     "data": {
      "application/javascript": [
       "\n",
       "        if (window._pyforest_update_imports_cell) { window._pyforest_update_imports_cell('from PIL import Image'); }\n",
       "    "
      ],
      "text/plain": [
       "<IPython.core.display.Javascript object>"
      ]
     },
     "metadata": {},
     "output_type": "display_data"
    },
    {
     "data": {
      "application/javascript": [
       "\n",
       "        if (window._pyforest_update_imports_cell) { window._pyforest_update_imports_cell('from PIL import Image'); }\n",
       "    "
      ],
      "text/plain": [
       "<IPython.core.display.Javascript object>"
      ]
     },
     "metadata": {},
     "output_type": "display_data"
    }
   ],
   "source": [
    "from PIL import ImageEnhance\n",
    "\n",
    "# main image and the background image\n",
    "main_image = Image.open(\"/Users/Dell/Desktop/project/product1.jpg\")\n",
    "background_image = Image.open(\"/Users/Dell/Desktop/project/orimage.jpg\")\n",
    "\n",
    "# Increase the brightness of the main image\n",
    "enhancer_main = ImageEnhance.Brightness(main_image)\n",
    "brightness_factor_main = 1.5 \n",
    "main_image = enhancer_main.enhance(brightness_factor_main)\n",
    "\n",
    "# Increase the brightness of the background image\n",
    "enhancer_background = ImageEnhance.Brightness(background_image)\n",
    "brightness_factor_background = 1.2 \n",
    "background_image = enhancer_background.enhance(brightness_factor_background)\n",
    "\n",
    "# Resize the background image to match the size of the main image using Lanczos interpolation\n",
    "background_image = background_image.resize(main_image.size,Image.LANCZOS)\n",
    "\n",
    "# Convert both images to RGBA mode\n",
    "main_image = main_image.convert(\"RGBA\")\n",
    "background_image = background_image.convert(\"RGBA\")\n",
    "\n",
    "# Separate the main image from its shadow\n",
    "shadow_image = main_image.copy()\n",
    "shadow_image.putalpha(120)\n",
    "\n",
    "# Create a mask for the shadow\n",
    "shadow_mask = Image.new(\"L\", main_image.size, 2)\n",
    "shadow_mask.paste(main_image.split()[2], (2, 2))\n",
    "\n",
    "# Replace the background of the main image with the new background\n",
    "main_image_without_background = main_image.copy()\n",
    "main_image_without_background.paste(background_image, (2, 2), mask=main_image.split()[2])\n",
    "\n",
    "# Overlay the main image and its shadow onto the new background\n",
    "result_image = Image.alpha_composite(main_image_without_background, shadow_image)\n",
    "\n",
    "# result\n",
    "result_image.save(\"product_1_4.png\", quality=95)\n"
   ]
  },
  {
   "cell_type": "code",
   "execution_count": 17,
   "id": "6c439fa0",
   "metadata": {},
   "outputs": [
    {
     "data": {
      "application/javascript": [
       "\n",
       "        if (window._pyforest_update_imports_cell) { window._pyforest_update_imports_cell('from PIL import Image'); }\n",
       "    "
      ],
      "text/plain": [
       "<IPython.core.display.Javascript object>"
      ]
     },
     "metadata": {},
     "output_type": "display_data"
    },
    {
     "data": {
      "application/javascript": [
       "\n",
       "        if (window._pyforest_update_imports_cell) { window._pyforest_update_imports_cell('from PIL import Image'); }\n",
       "    "
      ],
      "text/plain": [
       "<IPython.core.display.Javascript object>"
      ]
     },
     "metadata": {},
     "output_type": "display_data"
    },
    {
     "data": {
      "application/javascript": [
       "\n",
       "        if (window._pyforest_update_imports_cell) { window._pyforest_update_imports_cell('from PIL import Image'); }\n",
       "    "
      ],
      "text/plain": [
       "<IPython.core.display.Javascript object>"
      ]
     },
     "metadata": {},
     "output_type": "display_data"
    },
    {
     "data": {
      "application/javascript": [
       "\n",
       "        if (window._pyforest_update_imports_cell) { window._pyforest_update_imports_cell('from PIL import Image'); }\n",
       "    "
      ],
      "text/plain": [
       "<IPython.core.display.Javascript object>"
      ]
     },
     "metadata": {},
     "output_type": "display_data"
    },
    {
     "data": {
      "application/javascript": [
       "\n",
       "        if (window._pyforest_update_imports_cell) { window._pyforest_update_imports_cell('from PIL import Image'); }\n",
       "    "
      ],
      "text/plain": [
       "<IPython.core.display.Javascript object>"
      ]
     },
     "metadata": {},
     "output_type": "display_data"
    }
   ],
   "source": [
    "from PIL import ImageEnhance\n",
    "\n",
    "# main image and the background image\n",
    "main_image = Image.open(\"/Users/Dell/Desktop/project/product1.jpg\")\n",
    "background_image = Image.open(\"/Users/Dell/Desktop/project/reimage.jpg\")\n",
    "\n",
    "# Increase the brightness of the main image\n",
    "enhancer_main = ImageEnhance.Brightness(main_image)\n",
    "brightness_factor_main = 1.2 \n",
    "main_image = enhancer_main.enhance(brightness_factor_main)\n",
    "\n",
    "# Increase the brightness of the background image\n",
    "enhancer_background = ImageEnhance.Brightness(background_image)\n",
    "brightness_factor_background = 1.0 \n",
    "background_image = enhancer_background.enhance(brightness_factor_background)\n",
    "\n",
    "# Resize the background image to match the size of the main image using Lanczos interpolation\n",
    "background_image = background_image.resize(main_image.size,Image.LANCZOS)\n",
    "\n",
    "# Convert both images to RGBA mode\n",
    "main_image = main_image.convert(\"RGBA\")\n",
    "background_image = background_image.convert(\"RGBA\")\n",
    "\n",
    "# Separate the main image from its shadow\n",
    "shadow_image = main_image.copy()\n",
    "shadow_image.putalpha(90)\n",
    "\n",
    "# Create a mask for the shadow\n",
    "shadow_mask = Image.new(\"L\", main_image.size, 2)\n",
    "shadow_mask.paste(main_image.split()[2], (2, 2))\n",
    "\n",
    "# Replace the background of the main image with the new background\n",
    "main_image_without_background = main_image.copy()\n",
    "main_image_without_background.paste(background_image, (2, 2), mask=main_image.split()[2])\n",
    "\n",
    "# Overlay the main image and its shadow onto the new background\n",
    "result_image = Image.alpha_composite(main_image_without_background, shadow_image)\n",
    "\n",
    "# result\n",
    "result_image.save(\"product_1_5.png\", quality=120)\n"
   ]
  },
  {
   "cell_type": "code",
   "execution_count": null,
   "id": "c8e5af00",
   "metadata": {},
   "outputs": [],
   "source": []
  },
  {
   "cell_type": "code",
   "execution_count": null,
   "id": "9a99471c",
   "metadata": {},
   "outputs": [],
   "source": []
  }
 ],
 "metadata": {
  "kernelspec": {
   "display_name": "Python 3 (ipykernel)",
   "language": "python",
   "name": "python3"
  },
  "language_info": {
   "codemirror_mode": {
    "name": "ipython",
    "version": 3
   },
   "file_extension": ".py",
   "mimetype": "text/x-python",
   "name": "python",
   "nbconvert_exporter": "python",
   "pygments_lexer": "ipython3",
   "version": "3.11.3"
  }
 },
 "nbformat": 4,
 "nbformat_minor": 5
}
